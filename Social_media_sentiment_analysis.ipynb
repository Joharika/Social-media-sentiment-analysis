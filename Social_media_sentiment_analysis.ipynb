{
  "nbformat": 4,
  "nbformat_minor": 0,
  "metadata": {
    "colab": {
      "provenance": []
    },
    "kernelspec": {
      "name": "python3",
      "display_name": "Python 3"
    },
    "language_info": {
      "name": "python"
    }
  },
  "cells": [
    {
      "cell_type": "code",
      "source": [
        "import pandas as pd\n",
        "import nltk\n",
        "from nltk.corpus import stopwords\n",
        "from nltk.tokenize import word_tokenize\n",
        "from textblob import TextBlob\n",
        "# Download NLTK resources\n",
        "nltk.download(\"stopwords\")\n",
        "nltk.download(\"punkt\")\n",
        "# Load the dataset\n",
        "data = pd.read_csv(\"/content/Tweets.csv\")\n",
        "# Preprocess text data\n",
        "def preprocess_text(text):\n",
        "    text = text.lower()\n",
        "    tokens = word_tokenize(text)\n",
        "    tokens = [word for word in tokens if word.isalnum() and word not in stopwords.words(\"english\")]\n",
        "    return \" \".join(tokens)\n",
        "data[\"cleaned_text\"] = data[\"text\"].apply(preprocess_text)\n",
        "# Perform sentiment analysis using TextBlob\n",
        "def get_sentiment(text):\n",
        "    analysis = TextBlob(text)\n",
        "    sentiment_score = analysis.sentiment.polarity\n",
        "    if sentiment_score > 0:\n",
        "        return \"Positive\"\n",
        "    elif sentiment_score < 0:\n",
        "        return \"Negative\"\n",
        "    else:\n",
        "        return \"Neutral\"\n",
        "data[\"sentiment\"] = data[\"cleaned_text\"].apply(get_sentiment)\n",
        "# Analyze the sentiment distribution\n",
        "sentiment_counts = data[\"sentiment\"].value_counts()\n",
        "print(sentiment_counts)"
      ],
      "metadata": {
        "colab": {
          "base_uri": "https://localhost:8080/"
        },
        "id": "EfnZjDRXYfgD",
        "outputId": "67856424-73d5-42ad-d64a-fc9496fbd61b"
      },
      "execution_count": null,
      "outputs": [
        {
          "output_type": "stream",
          "name": "stderr",
          "text": [
            "[nltk_data] Downloading package stopwords to /root/nltk_data...\n",
            "[nltk_data]   Package stopwords is already up-to-date!\n",
            "[nltk_data] Downloading package punkt to /root/nltk_data...\n",
            "[nltk_data]   Package punkt is already up-to-date!\n"
          ]
        },
        {
          "output_type": "stream",
          "name": "stdout",
          "text": [
            "Neutral     5896\n",
            "Positive    5376\n",
            "Negative    3368\n",
            "Name: sentiment, dtype: int64\n"
          ]
        }
      ]
    }
  ]
}